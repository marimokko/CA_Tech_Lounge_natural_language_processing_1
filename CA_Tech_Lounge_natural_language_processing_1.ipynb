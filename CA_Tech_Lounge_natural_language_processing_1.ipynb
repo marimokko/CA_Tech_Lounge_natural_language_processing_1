{
  "nbformat": 4,
  "nbformat_minor": 0,
  "metadata": {
    "colab": {
      "provenance": []
    },
    "kernelspec": {
      "name": "python3",
      "display_name": "Python 3"
    },
    "language_info": {
      "name": "python"
    }
  },
  "cells": [
    {
      "cell_type": "code",
      "execution_count": null,
      "metadata": {
        "colab": {
          "base_uri": "https://localhost:8080/"
        },
        "id": "5mPBvr8hnwQ8",
        "outputId": "831d2883-8aa7-40f4-801a-5436d53a5195"
      },
      "outputs": [
        {
          "output_type": "stream",
          "name": "stdout",
          "text": [
            "Cloning into 'chABSA-dataset'...\n",
            "remote: Enumerating objects: 187, done.\u001b[K\n",
            "remote: Total 187 (delta 0), reused 0 (delta 0), pack-reused 187\u001b[K\n",
            "Receiving objects: 100% (187/187), 1.89 MiB | 5.68 MiB/s, done.\n",
            "Resolving deltas: 100% (65/65), done.\n"
          ]
        }
      ],
      "source": [
        "!git clone https://github.com/chakki-works/chABSA-dataset.git"
      ]
    },
    {
      "cell_type": "code",
      "source": [
        "pip install pandas scikit-learn"
      ],
      "metadata": {
        "colab": {
          "base_uri": "https://localhost:8080/"
        },
        "id": "-8zljJpeoP4u",
        "outputId": "fa88ca18-39df-4978-e54e-28e555ff5072"
      },
      "execution_count": null,
      "outputs": [
        {
          "output_type": "stream",
          "name": "stdout",
          "text": [
            "Looking in indexes: https://pypi.org/simple, https://us-python.pkg.dev/colab-wheels/public/simple/\n",
            "Requirement already satisfied: pandas in /usr/local/lib/python3.9/dist-packages (1.5.3)\n",
            "Requirement already satisfied: scikit-learn in /usr/local/lib/python3.9/dist-packages (1.2.2)\n",
            "Requirement already satisfied: python-dateutil>=2.8.1 in /usr/local/lib/python3.9/dist-packages (from pandas) (2.8.2)\n",
            "Requirement already satisfied: pytz>=2020.1 in /usr/local/lib/python3.9/dist-packages (from pandas) (2022.7.1)\n",
            "Requirement already satisfied: numpy>=1.20.3 in /usr/local/lib/python3.9/dist-packages (from pandas) (1.22.4)\n",
            "Requirement already satisfied: scipy>=1.3.2 in /usr/local/lib/python3.9/dist-packages (from scikit-learn) (1.10.1)\n",
            "Requirement already satisfied: joblib>=1.1.1 in /usr/local/lib/python3.9/dist-packages (from scikit-learn) (1.2.0)\n",
            "Requirement already satisfied: threadpoolctl>=2.0.0 in /usr/local/lib/python3.9/dist-packages (from scikit-learn) (3.1.0)\n",
            "Requirement already satisfied: six>=1.5 in /usr/local/lib/python3.9/dist-packages (from python-dateutil>=2.8.1->pandas) (1.16.0)\n"
          ]
        }
      ]
    },
    {
      "cell_type": "code",
      "source": [
        "!wget https://s3-ap-northeast-1.amazonaws.com/dev.tech-sketch.jp/chakki/public/chABSA-dataset.zip\n",
        "!unzip chABSA-dataset.zip"
      ],
      "metadata": {
        "colab": {
          "base_uri": "https://localhost:8080/"
        },
        "id": "hW-Z7yAWsMp9",
        "outputId": "c6d96f16-f872-4c06-8c78-bce2bb74d683"
      },
      "execution_count": null,
      "outputs": [
        {
          "output_type": "stream",
          "name": "stdout",
          "text": [
            "--2023-04-17 16:18:37--  https://s3-ap-northeast-1.amazonaws.com/dev.tech-sketch.jp/chakki/public/chABSA-dataset.zip\n",
            "Resolving s3-ap-northeast-1.amazonaws.com (s3-ap-northeast-1.amazonaws.com)... 52.219.9.20, 52.219.200.12, 52.219.152.160, ...\n",
            "Connecting to s3-ap-northeast-1.amazonaws.com (s3-ap-northeast-1.amazonaws.com)|52.219.9.20|:443... connected.\n",
            "HTTP request sent, awaiting response... 200 OK\n",
            "Length: 722777 (706K) [application/zip]\n",
            "Saving to: ‘chABSA-dataset.zip’\n",
            "\n",
            "chABSA-dataset.zip  100%[===================>] 705.84K  3.70MB/s    in 0.2s    \n",
            "\n",
            "2023-04-17 16:18:38 (3.70 MB/s) - ‘chABSA-dataset.zip’ saved [722777/722777]\n",
            "\n",
            "Archive:  chABSA-dataset.zip\n",
            "  inflating: chABSA-dataset/.DS_Store  \n",
            "   creating: __MACOSX/\n",
            "   creating: __MACOSX/chABSA-dataset/\n",
            "  inflating: __MACOSX/chABSA-dataset/._.DS_Store  \n",
            " extracting: chABSA-dataset/.gitkeep  \n",
            "  inflating: chABSA-dataset/e00008_ann.json  \n",
            "  inflating: chABSA-dataset/e00017_ann.json  \n",
            "  inflating: chABSA-dataset/e00024_ann.json  \n",
            "  inflating: chABSA-dataset/e00026_ann.json  \n",
            "  inflating: chABSA-dataset/e00030_ann.json  \n",
            "  inflating: chABSA-dataset/e00033_ann.json  \n",
            "  inflating: chABSA-dataset/e00034_ann.json  \n",
            "  inflating: chABSA-dataset/e00035_ann.json  \n",
            "  inflating: chABSA-dataset/e00037_ann.json  \n",
            "  inflating: chABSA-dataset/e00051_ann.json  \n",
            "  inflating: chABSA-dataset/e00053_ann.json  \n",
            "  inflating: chABSA-dataset/e00058_ann.json  \n",
            "  inflating: chABSA-dataset/e00069_ann.json  \n",
            "  inflating: chABSA-dataset/e00091_ann.json  \n",
            "  inflating: chABSA-dataset/e00107_ann.json  \n",
            "  inflating: chABSA-dataset/e00114_ann.json  \n",
            "  inflating: chABSA-dataset/e00146_ann.json  \n",
            "  inflating: chABSA-dataset/e00168_ann.json  \n",
            "  inflating: chABSA-dataset/e00184_ann.json  \n",
            "  inflating: chABSA-dataset/e00194_ann.json  \n",
            "  inflating: chABSA-dataset/e00273_ann.json  \n",
            "  inflating: chABSA-dataset/e00308_ann.json  \n",
            "  inflating: chABSA-dataset/e00343_ann.json  \n",
            "  inflating: chABSA-dataset/e00354_ann.json  \n",
            "  inflating: chABSA-dataset/e00380_ann.json  \n",
            "  inflating: chABSA-dataset/e00406_ann.json  \n",
            "  inflating: chABSA-dataset/e00435_ann.json  \n",
            "  inflating: chABSA-dataset/e00457_ann.json  \n",
            "  inflating: chABSA-dataset/e00465_ann.json  \n",
            "  inflating: chABSA-dataset/e00501_ann.json  \n",
            "  inflating: chABSA-dataset/e00534_ann.json  \n",
            "  inflating: chABSA-dataset/e00541_ann.json  \n",
            "  inflating: chABSA-dataset/e00547_ann.json  \n",
            "  inflating: chABSA-dataset/e00563_ann.json  \n",
            "  inflating: chABSA-dataset/e00603_ann.json  \n",
            "  inflating: chABSA-dataset/e00686_ann.json  \n",
            "  inflating: chABSA-dataset/e00693_ann.json  \n",
            "  inflating: chABSA-dataset/e00694_ann.json  \n",
            "  inflating: chABSA-dataset/e00721_ann.json  \n",
            "  inflating: chABSA-dataset/e00772_ann.json  \n",
            "  inflating: chABSA-dataset/e00787_ann.json  \n",
            "  inflating: chABSA-dataset/e00810_ann.json  \n",
            "  inflating: chABSA-dataset/e00832_ann.json  \n",
            "  inflating: chABSA-dataset/e00838_ann.json  \n",
            "  inflating: chABSA-dataset/e00840_ann.json  \n",
            "  inflating: chABSA-dataset/e00842_ann.json  \n",
            "  inflating: chABSA-dataset/e00858_ann.json  \n",
            "  inflating: chABSA-dataset/e00877_ann.json  \n",
            "  inflating: chABSA-dataset/e00886_ann.json  \n",
            "  inflating: chABSA-dataset/e00909_ann.json  \n",
            "  inflating: chABSA-dataset/e00911_ann.json  \n",
            "  inflating: chABSA-dataset/e00939_ann.json  \n",
            "  inflating: chABSA-dataset/e00962_ann.json  \n",
            "  inflating: chABSA-dataset/e00976_ann.json  \n",
            "  inflating: chABSA-dataset/e01018_ann.json  \n",
            "  inflating: chABSA-dataset/e01043_ann.json  \n",
            "  inflating: chABSA-dataset/e01054_ann.json  \n",
            "  inflating: chABSA-dataset/e01097_ann.json  \n",
            "  inflating: chABSA-dataset/e01118_ann.json  \n",
            "  inflating: chABSA-dataset/e01151_ann.json  \n",
            "  inflating: chABSA-dataset/e01156_ann.json  \n",
            "  inflating: chABSA-dataset/e01173_ann.json  \n",
            "  inflating: chABSA-dataset/e01183_ann.json  \n",
            "  inflating: chABSA-dataset/e01197_ann.json  \n",
            "  inflating: chABSA-dataset/e01216_ann.json  \n",
            "  inflating: chABSA-dataset/e01230_ann.json  \n",
            "  inflating: chABSA-dataset/e01244_ann.json  \n",
            "  inflating: chABSA-dataset/e01249_ann.json  \n",
            "  inflating: chABSA-dataset/e01260_ann.json  \n",
            "  inflating: chABSA-dataset/e01334_ann.json  \n",
            "  inflating: chABSA-dataset/e01364_ann.json  \n",
            "  inflating: chABSA-dataset/e01398_ann.json  \n",
            "  inflating: chABSA-dataset/e01402_ann.json  \n",
            "  inflating: chABSA-dataset/e01425_ann.json  \n",
            "  inflating: chABSA-dataset/e01436_ann.json  \n",
            "  inflating: chABSA-dataset/e01462_ann.json  \n",
            "  inflating: chABSA-dataset/e01469_ann.json  \n",
            "  inflating: chABSA-dataset/e01506_ann.json  \n",
            "  inflating: chABSA-dataset/e01528_ann.json  \n",
            "  inflating: chABSA-dataset/e01529_ann.json  \n",
            "  inflating: chABSA-dataset/e01533_ann.json  \n",
            "  inflating: chABSA-dataset/e01546_ann.json  \n",
            "  inflating: chABSA-dataset/e01585_ann.json  \n",
            "  inflating: chABSA-dataset/e01620_ann.json  \n",
            "  inflating: chABSA-dataset/e01624_ann.json  \n",
            "  inflating: chABSA-dataset/e01629_ann.json  \n",
            "  inflating: chABSA-dataset/e01635_ann.json  \n",
            "  inflating: chABSA-dataset/e01703_ann.json  \n",
            "  inflating: chABSA-dataset/e01719_ann.json  \n",
            "  inflating: chABSA-dataset/e01731_ann.json  \n",
            "  inflating: chABSA-dataset/e01740_ann.json  \n",
            "  inflating: chABSA-dataset/e01743_ann.json  \n",
            "  inflating: chABSA-dataset/e01764_ann.json  \n",
            "  inflating: chABSA-dataset/e01794_ann.json  \n",
            "  inflating: chABSA-dataset/e01798_ann.json  \n",
            "  inflating: chABSA-dataset/e01813_ann.json  \n",
            "  inflating: chABSA-dataset/e01849_ann.json  \n",
            "  inflating: chABSA-dataset/e01862_ann.json  \n",
            "  inflating: chABSA-dataset/e01865_ann.json  \n",
            "  inflating: chABSA-dataset/e01903_ann.json  \n",
            "  inflating: chABSA-dataset/e01904_ann.json  \n",
            "  inflating: chABSA-dataset/e01933_ann.json  \n",
            "  inflating: chABSA-dataset/e01946_ann.json  \n",
            "  inflating: chABSA-dataset/e01968_ann.json  \n",
            "  inflating: chABSA-dataset/e01972_ann.json  \n",
            "  inflating: chABSA-dataset/e01974_ann.json  \n",
            "  inflating: chABSA-dataset/e01987_ann.json  \n",
            "  inflating: chABSA-dataset/e01992_ann.json  \n",
            "  inflating: chABSA-dataset/e02009_ann.json  \n",
            "  inflating: chABSA-dataset/e02049_ann.json  \n",
            "  inflating: chABSA-dataset/e02105_ann.json  \n",
            "  inflating: chABSA-dataset/e02150_ann.json  \n",
            "  inflating: chABSA-dataset/e02152_ann.json  \n",
            "  inflating: chABSA-dataset/e02214_ann.json  \n",
            "  inflating: chABSA-dataset/e02241_ann.json  \n",
            "  inflating: chABSA-dataset/e02246_ann.json  \n",
            "  inflating: chABSA-dataset/e02289_ann.json  \n",
            "  inflating: chABSA-dataset/e02353_ann.json  \n",
            "  inflating: chABSA-dataset/e02367_ann.json  \n",
            "  inflating: chABSA-dataset/e02380_ann.json  \n",
            "  inflating: chABSA-dataset/e02382_ann.json  \n",
            "  inflating: chABSA-dataset/e02390_ann.json  \n",
            "  inflating: chABSA-dataset/e02414_ann.json  \n",
            "  inflating: chABSA-dataset/e02423_ann.json  \n",
            "  inflating: chABSA-dataset/e02505_ann.json  \n",
            "  inflating: chABSA-dataset/e02525_ann.json  \n",
            "  inflating: chABSA-dataset/e02530_ann.json  \n",
            "  inflating: chABSA-dataset/e02544_ann.json  \n",
            "  inflating: chABSA-dataset/e02547_ann.json  \n",
            "  inflating: chABSA-dataset/e02563_ann.json  \n",
            "  inflating: chABSA-dataset/e02567_ann.json  \n",
            "  inflating: chABSA-dataset/e02608_ann.json  \n",
            "  inflating: chABSA-dataset/e02627_ann.json  \n",
            "  inflating: chABSA-dataset/e02632_ann.json  \n",
            "  inflating: chABSA-dataset/e02643_ann.json  \n",
            "  inflating: chABSA-dataset/e02673_ann.json  \n",
            "  inflating: chABSA-dataset/e02682_ann.json  \n",
            "  inflating: chABSA-dataset/e02732_ann.json  \n",
            "  inflating: chABSA-dataset/e02825_ann.json  \n",
            "  inflating: chABSA-dataset/e02837_ann.json  \n",
            "  inflating: chABSA-dataset/e02889_ann.json  \n",
            "  inflating: chABSA-dataset/e02905_ann.json  \n",
            "  inflating: chABSA-dataset/e02946_ann.json  \n",
            "  inflating: chABSA-dataset/e03128_ann.json  \n",
            "  inflating: chABSA-dataset/e03226_ann.json  \n",
            "  inflating: chABSA-dataset/e03236_ann.json  \n",
            "  inflating: chABSA-dataset/e03267_ann.json  \n",
            "  inflating: chABSA-dataset/e03275_ann.json  \n",
            "  inflating: chABSA-dataset/e03281_ann.json  \n",
            "  inflating: chABSA-dataset/e03367_ann.json  \n",
            "  inflating: chABSA-dataset/e03398_ann.json  \n",
            "  inflating: chABSA-dataset/e03401_ann.json  \n",
            "  inflating: chABSA-dataset/e03472_ann.json  \n",
            "  inflating: chABSA-dataset/e03505_ann.json  \n",
            "  inflating: chABSA-dataset/e03556_ann.json  \n",
            "  inflating: chABSA-dataset/e03566_ann.json  \n",
            "  inflating: chABSA-dataset/e03580_ann.json  \n",
            "  inflating: chABSA-dataset/e03582_ann.json  \n",
            "  inflating: chABSA-dataset/e03584_ann.json  \n",
            "  inflating: chABSA-dataset/e03601_ann.json  \n",
            "  inflating: chABSA-dataset/e03641_ann.json  \n",
            "  inflating: chABSA-dataset/e03693_ann.json  \n",
            "  inflating: chABSA-dataset/e03723_ann.json  \n",
            "  inflating: chABSA-dataset/e03784_ann.json  \n",
            "  inflating: chABSA-dataset/e03929_ann.json  \n",
            "  inflating: chABSA-dataset/e03991_ann.json  \n",
            "  inflating: chABSA-dataset/e04078_ann.json  \n",
            "  inflating: chABSA-dataset/e04091_ann.json  \n",
            "  inflating: chABSA-dataset/e04123_ann.json  \n",
            "  inflating: chABSA-dataset/e04136_ann.json  \n",
            "  inflating: chABSA-dataset/e04147_ann.json  \n",
            "  inflating: chABSA-dataset/e04191_ann.json  \n",
            "  inflating: chABSA-dataset/e04242_ann.json  \n",
            "  inflating: chABSA-dataset/e04273_ann.json  \n",
            "  inflating: chABSA-dataset/e04291_ann.json  \n",
            "  inflating: chABSA-dataset/e04298_ann.json  \n",
            "  inflating: chABSA-dataset/e04304_ann.json  \n",
            "  inflating: chABSA-dataset/e04319_ann.json  \n",
            "  inflating: chABSA-dataset/e04329_ann.json  \n",
            "  inflating: chABSA-dataset/e04331_ann.json  \n",
            "  inflating: chABSA-dataset/e04360_ann.json  \n",
            "  inflating: chABSA-dataset/e04503_ann.json  \n",
            "  inflating: chABSA-dataset/e04509_ann.json  \n",
            "  inflating: chABSA-dataset/e04727_ann.json  \n",
            "  inflating: chABSA-dataset/e04768_ann.json  \n",
            "  inflating: chABSA-dataset/e04844_ann.json  \n",
            "  inflating: chABSA-dataset/e04856_ann.json  \n",
            "  inflating: chABSA-dataset/e04858_ann.json  \n",
            "  inflating: chABSA-dataset/e04867_ann.json  \n",
            "  inflating: chABSA-dataset/e04877_ann.json  \n",
            "  inflating: chABSA-dataset/e04948_ann.json  \n",
            "  inflating: chABSA-dataset/e04976_ann.json  \n",
            "  inflating: chABSA-dataset/e04995_ann.json  \n",
            "  inflating: chABSA-dataset/e05011_ann.json  \n",
            "  inflating: chABSA-dataset/e05110_ann.json  \n",
            "  inflating: chABSA-dataset/e05145_ann.json  \n",
            "  inflating: chABSA-dataset/e05155_ann.json  \n",
            "  inflating: chABSA-dataset/e05167_ann.json  \n",
            "  inflating: chABSA-dataset/e05302_ann.json  \n",
            "  inflating: chABSA-dataset/e05319_ann.json  \n",
            "  inflating: chABSA-dataset/e05322_ann.json  \n",
            "  inflating: chABSA-dataset/e05346_ann.json  \n",
            "  inflating: chABSA-dataset/e05452_ann.json  \n",
            "  inflating: chABSA-dataset/e05469_ann.json  \n",
            "  inflating: chABSA-dataset/e05480_ann.json  \n",
            "  inflating: chABSA-dataset/e05593_ann.json  \n",
            "  inflating: chABSA-dataset/e05629_ann.json  \n",
            "  inflating: chABSA-dataset/e05714_ann.json  \n",
            "  inflating: chABSA-dataset/e05737_ann.json  \n",
            "  inflating: chABSA-dataset/e07801_ann.json  \n",
            "  inflating: chABSA-dataset/e21200_ann.json  \n",
            "  inflating: chABSA-dataset/e21261_ann.json  \n",
            "  inflating: chABSA-dataset/e23818_ann.json  \n",
            "  inflating: chABSA-dataset/e25665_ann.json  \n",
            "  inflating: chABSA-dataset/e26332_ann.json  \n",
            "  inflating: chABSA-dataset/e26443_ann.json  \n",
            "  inflating: chABSA-dataset/e26454_ann.json  \n",
            "  inflating: chABSA-dataset/e26713_ann.json  \n",
            "  inflating: chABSA-dataset/e26914_ann.json  \n",
            "  inflating: chABSA-dataset/e27050_ann.json  \n",
            "  inflating: chABSA-dataset/e27633_ann.json  \n",
            "  inflating: chABSA-dataset/e27759_ann.json  \n",
            "  inflating: chABSA-dataset/e30066_ann.json  \n",
            "  inflating: chABSA-dataset/e30085_ann.json  \n",
            "  inflating: chABSA-dataset/e30479_ann.json  \n",
            "  inflating: chABSA-dataset/e30746_ann.json  \n",
            "  inflating: chABSA-dataset/e32161_ann.json  \n",
            "  inflating: chABSA-dataset/e32189_ann.json  \n",
            "  inflating: chABSA-dataset/e32458_ann.json  \n",
            "  inflating: chABSA-dataset/e33009_ann.json  \n"
          ]
        }
      ]
    },
    {
      "cell_type": "code",
      "source": [
        "data_path = \"chABSA-dataset\""
      ],
      "metadata": {
        "id": "uO6orJQjsSz-"
      },
      "execution_count": null,
      "outputs": []
    },
    {
      "cell_type": "code",
      "source": [
        "import os\n",
        "import json\n",
        "from sklearn.model_selection import train_test_split\n",
        "from sklearn.feature_extraction.text import TfidfVectorizer\n",
        "from sklearn.svm import LinearSVC\n",
        "from sklearn.metrics import classification_report\n",
        "\n",
        "def load_data(path):\n",
        "    sentences = []\n",
        "    labels = []\n",
        "\n",
        "    for file in os.listdir(path):\n",
        "        if file.endswith(\".json\"):\n",
        "            file_path = os.path.join(path, file)\n",
        "            with open(file_path, \"r\", encoding=\"utf-8\") as f:\n",
        "                try:\n",
        "                    data = json.load(f)\n",
        "                except json.JSONDecodeError:\n",
        "                    print(f\"Error decoding file: {file}\")\n",
        "                    continue\n",
        "\n",
        "                for sent in data[\"sentences\"]:\n",
        "                    if len(sent[\"opinions\"]) > 0:\n",
        "                        sentences.append(sent[\"sentence\"])\n",
        "                        label = sent[\"opinions\"][0][\"polarity\"]\n",
        "                        labels.append(label)\n",
        "\n",
        "    return sentences, labels\n",
        "\n",
        "data_path = \"chABSA-dataset\"\n",
        "X, y = load_data(data_path)\n"
      ],
      "metadata": {
        "id": "QZdvhfe7on5Z"
      },
      "execution_count": null,
      "outputs": []
    },
    {
      "cell_type": "code",
      "source": [
        "X_train, X_test, y_train, y_test = train_test_split(X, y, test_size=0.2, random_state=42)\n",
        "\n",
        "vectorizer = TfidfVectorizer()\n",
        "X_train_vec = vectorizer.fit_transform(X_train)\n",
        "X_test_vec = vectorizer.transform(X_test)\n",
        "\n",
        "model = LinearSVC()\n",
        "model.fit(X_train_vec, y_train)\n",
        "\n",
        "y_pred = model.predict(X_test_vec)\n",
        "print(classification_report(y_test, y_pred))\n"
      ],
      "metadata": {
        "colab": {
          "base_uri": "https://localhost:8080/"
        },
        "id": "lU38D6e0umS1",
        "outputId": "85b764f9-5e69-466c-8541-3d97e59c6642"
      },
      "execution_count": null,
      "outputs": [
        {
          "output_type": "stream",
          "name": "stdout",
          "text": [
            "              precision    recall  f1-score   support\n",
            "\n",
            "    negative       0.64      0.49      0.56       269\n",
            "     neutral       0.60      0.11      0.19        27\n",
            "    positive       0.65      0.80      0.72       347\n",
            "\n",
            "    accuracy                           0.64       643\n",
            "   macro avg       0.63      0.47      0.49       643\n",
            "weighted avg       0.64      0.64      0.63       643\n",
            "\n"
          ]
        }
      ]
    },
    {
      "cell_type": "code",
      "source": [
        "# Google Colabでモデルとベクトル化器を保存する\n",
        "import pickle\n",
        "\n",
        "with open('model.pkl', 'wb') as f:\n",
        "    pickle.dump(model, f)\n",
        "\n",
        "with open('vectorizer.pkl', 'wb') as f:\n",
        "    pickle.dump(vectorizer, f)\n",
        "\n",
        "# ローカル環境にダウンロードする\n",
        "from google.colab import files\n",
        "\n",
        "files.download('model.pkl')\n",
        "files.download('vectorizer.pkl')\n"
      ],
      "metadata": {
        "colab": {
          "base_uri": "https://localhost:8080/",
          "height": 17
        },
        "id": "mKTRXchyySQ8",
        "outputId": "2fa58d67-242d-4033-b2ce-a6f4a67ac50a"
      },
      "execution_count": null,
      "outputs": [
        {
          "output_type": "display_data",
          "data": {
            "text/plain": [
              "<IPython.core.display.Javascript object>"
            ],
            "application/javascript": [
              "\n",
              "    async function download(id, filename, size) {\n",
              "      if (!google.colab.kernel.accessAllowed) {\n",
              "        return;\n",
              "      }\n",
              "      const div = document.createElement('div');\n",
              "      const label = document.createElement('label');\n",
              "      label.textContent = `Downloading \"${filename}\": `;\n",
              "      div.appendChild(label);\n",
              "      const progress = document.createElement('progress');\n",
              "      progress.max = size;\n",
              "      div.appendChild(progress);\n",
              "      document.body.appendChild(div);\n",
              "\n",
              "      const buffers = [];\n",
              "      let downloaded = 0;\n",
              "\n",
              "      const channel = await google.colab.kernel.comms.open(id);\n",
              "      // Send a message to notify the kernel that we're ready.\n",
              "      channel.send({})\n",
              "\n",
              "      for await (const message of channel.messages) {\n",
              "        // Send a message to notify the kernel that we're ready.\n",
              "        channel.send({})\n",
              "        if (message.buffers) {\n",
              "          for (const buffer of message.buffers) {\n",
              "            buffers.push(buffer);\n",
              "            downloaded += buffer.byteLength;\n",
              "            progress.value = downloaded;\n",
              "          }\n",
              "        }\n",
              "      }\n",
              "      const blob = new Blob(buffers, {type: 'application/binary'});\n",
              "      const a = document.createElement('a');\n",
              "      a.href = window.URL.createObjectURL(blob);\n",
              "      a.download = filename;\n",
              "      div.appendChild(a);\n",
              "      a.click();\n",
              "      div.remove();\n",
              "    }\n",
              "  "
            ]
          },
          "metadata": {}
        },
        {
          "output_type": "display_data",
          "data": {
            "text/plain": [
              "<IPython.core.display.Javascript object>"
            ],
            "application/javascript": [
              "download(\"download_e221f556-80ad-4f9f-adaf-88f31ef4bd21\", \"model.pkl\", 253825)"
            ]
          },
          "metadata": {}
        },
        {
          "output_type": "display_data",
          "data": {
            "text/plain": [
              "<IPython.core.display.Javascript object>"
            ],
            "application/javascript": [
              "\n",
              "    async function download(id, filename, size) {\n",
              "      if (!google.colab.kernel.accessAllowed) {\n",
              "        return;\n",
              "      }\n",
              "      const div = document.createElement('div');\n",
              "      const label = document.createElement('label');\n",
              "      label.textContent = `Downloading \"${filename}\": `;\n",
              "      div.appendChild(label);\n",
              "      const progress = document.createElement('progress');\n",
              "      progress.max = size;\n",
              "      div.appendChild(progress);\n",
              "      document.body.appendChild(div);\n",
              "\n",
              "      const buffers = [];\n",
              "      let downloaded = 0;\n",
              "\n",
              "      const channel = await google.colab.kernel.comms.open(id);\n",
              "      // Send a message to notify the kernel that we're ready.\n",
              "      channel.send({})\n",
              "\n",
              "      for await (const message of channel.messages) {\n",
              "        // Send a message to notify the kernel that we're ready.\n",
              "        channel.send({})\n",
              "        if (message.buffers) {\n",
              "          for (const buffer of message.buffers) {\n",
              "            buffers.push(buffer);\n",
              "            downloaded += buffer.byteLength;\n",
              "            progress.value = downloaded;\n",
              "          }\n",
              "        }\n",
              "      }\n",
              "      const blob = new Blob(buffers, {type: 'application/binary'});\n",
              "      const a = document.createElement('a');\n",
              "      a.href = window.URL.createObjectURL(blob);\n",
              "      a.download = filename;\n",
              "      div.appendChild(a);\n",
              "      a.click();\n",
              "      div.remove();\n",
              "    }\n",
              "  "
            ]
          },
          "metadata": {}
        },
        {
          "output_type": "display_data",
          "data": {
            "text/plain": [
              "<IPython.core.display.Javascript object>"
            ],
            "application/javascript": [
              "download(\"download_a131286d-81a6-4f05-ad4e-1e9ee7519344\", \"vectorizer.pkl\", 686356)"
            ]
          },
          "metadata": {}
        }
      ]
    }
  ]
}